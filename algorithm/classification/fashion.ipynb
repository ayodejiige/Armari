{
 "cells": [
  {
   "cell_type": "code",
   "execution_count": 65,
   "metadata": {},
   "outputs": [],
   "source": [
    "import keras\n",
    "from keras.layers import Conv2D, MaxPool2D, Flatten\n",
    "from keras.layers import Dense, Dropout\n",
    "from keras.datasets import fashion_mnist\n",
    "\n",
    "import numpy as np\n",
    "import matplotlib.pyplot as plt"
   ]
  },
  {
   "cell_type": "code",
   "execution_count": 91,
   "metadata": {},
   "outputs": [],
   "source": [
    "def plot_history(history):\n",
    "    loss_list = [s for s in history.history.keys() if 'loss' in s and 'val' not in s]\n",
    "    val_loss_list = [s for s in history.history.keys() if 'loss' in s and 'val' in s]\n",
    "    acc_list = [s for s in history.history.keys() if 'acc' in s and 'val' not in s]\n",
    "    val_acc_list = [s for s in history.history.keys() if 'acc' in s and 'val' in s]\n",
    "    \n",
    "    if len(loss_list) == 0:\n",
    "        print('Loss is missing in history')\n",
    "        return \n",
    "    \n",
    "    ## As loss always exists\n",
    "    epochs = range(1,len(history.history[loss_list[0]]) + 1)\n",
    "    \n",
    "    ## Loss\n",
    "    plt.figure(1)\n",
    "    for l in loss_list:\n",
    "        plt.plot(epochs, history.history[l], 'b', label='Training loss (' + str(str(format(history.history[l][-1],'.5f'))+')'))\n",
    "    for l in val_loss_list:\n",
    "        plt.plot(epochs, history.history[l], 'g', label='Validation loss (' + str(str(format(history.history[l][-1],'.5f'))+')'))\n",
    "    \n",
    "    plt.title('Loss')\n",
    "    plt.xlabel('Epochs')\n",
    "    plt.ylabel('Loss')\n",
    "    plt.legend()\n",
    "    \n",
    "    ## Accuracy\n",
    "    plt.figure(2)\n",
    "    for l in acc_list:\n",
    "        plt.plot(epochs, history.history[l], 'b', label='Training accuracy (' + str(format(history.history[l][-1],'.5f'))+')')\n",
    "    for l in val_acc_list:    \n",
    "        plt.plot(epochs, history.history[l], 'g', label='Validation accuracy (' + str(format(history.history[l][-1],'.5f'))+')')\n",
    "\n",
    "    plt.title('Accuracy')\n",
    "    plt.xlabel('Epochs')\n",
    "    plt.ylabel('Accuracy')\n",
    "    plt.legend()\n",
    "    plt.show()"
   ]
  },
  {
   "cell_type": "code",
   "execution_count": 86,
   "metadata": {},
   "outputs": [],
   "source": [
    "(x_train, y_train), (x_test, y_test) = fashion_mnist.load_data()\n",
    "class_names = ['T-shirt/top', 'Trouser', 'Pullover', 'Dress', 'Coat', \n",
    "               'Sandal', 'Shirt', 'Sneaker', 'Bag', 'Ankle boot']"
   ]
  },
  {
   "cell_type": "code",
   "execution_count": 38,
   "metadata": {},
   "outputs": [
    {
     "name": "stdout",
     "output_type": "stream",
     "text": [
      "_________________________________________________________________\n",
      "Layer (type)                 Output Shape              Param #   \n",
      "=================================================================\n",
      "conv2d_13 (Conv2D)           (None, 28, 28, 64)        320       \n",
      "_________________________________________________________________\n",
      "max_pooling2d_13 (MaxPooling (None, 14, 14, 64)        0         \n",
      "_________________________________________________________________\n",
      "dropout_11 (Dropout)         (None, 14, 14, 64)        0         \n",
      "_________________________________________________________________\n",
      "conv2d_14 (Conv2D)           (None, 14, 14, 32)        8224      \n",
      "_________________________________________________________________\n",
      "max_pooling2d_14 (MaxPooling (None, 7, 7, 32)          0         \n",
      "_________________________________________________________________\n",
      "dropout_12 (Dropout)         (None, 7, 7, 32)          0         \n",
      "_________________________________________________________________\n",
      "flatten_7 (Flatten)          (None, 1568)              0         \n",
      "_________________________________________________________________\n",
      "dense_13 (Dense)             (None, 256)               401664    \n",
      "_________________________________________________________________\n",
      "dropout_13 (Dropout)         (None, 256)               0         \n",
      "_________________________________________________________________\n",
      "dense_14 (Dense)             (None, 10)                2570      \n",
      "=================================================================\n",
      "Total params: 412,778\n",
      "Trainable params: 412,778\n",
      "Non-trainable params: 0\n",
      "_________________________________________________________________\n"
     ]
    }
   ],
   "source": [
    "from __future__ import absolute_import, division, print_function\n",
    "\n",
    "model = keras.Sequential()\n",
    "\n",
    "# Must define the input shape in the first layer of the neural network\n",
    "model.add(keras.layers.Conv2D(filters=64, kernel_size=2, padding='same', activation='relu', input_shape=(28,28,1))) \n",
    "model.add(keras.layers.MaxPooling2D(pool_size=2))\n",
    "model.add(keras.layers.Dropout(0.3))\n",
    "\n",
    "model.add(keras.layers.Conv2D(filters=32, kernel_size=2, padding='same', activation='relu'))\n",
    "model.add(keras.layers.MaxPooling2D(pool_size=2))\n",
    "model.add(keras.layers.Dropout(0.3))\n",
    "\n",
    "model.add(keras.layers.Flatten())\n",
    "model.add(keras.layers.Dense(256, activation='relu'))\n",
    "model.add(keras.layers.Dropout(0.5))\n",
    "model.add(keras.layers.Dense(10, activation='softmax'))\n",
    "model.summary()"
   ]
  },
  {
   "cell_type": "code",
   "execution_count": 77,
   "metadata": {},
   "outputs": [
    {
     "data": {
      "text/plain": [
       "(10000, 28, 28, 1)"
      ]
     },
     "execution_count": 77,
     "metadata": {},
     "output_type": "execute_result"
    }
   ],
   "source": [
    "w, h = 28, 28\n",
    "X_train = x_train.reshape([x_train.shape[0], 28, 28, 1])\n",
    "X_test = x_test.reshape([x_test.shape[0], 28, 28, 1])\n",
    "X_train = X_train/255\n",
    "X_test = X_test/255\n",
    "X_train.shape\n",
    "X_test.shape"
   ]
  },
  {
   "cell_type": "code",
   "execution_count": 78,
   "metadata": {},
   "outputs": [],
   "source": [
    "Y_train = keras.utils.np_utils.to_categorical(y_train)\n",
    "Y_test = keras.utils.np_utils.to_categorical(y_test)"
   ]
  },
  {
   "cell_type": "code",
   "execution_count": 92,
   "metadata": {},
   "outputs": [],
   "source": [
    "model.compile(keras.optimizers.Adam(1e-4), loss='sparse_categorical_crossentropy', metrics=['accuracy'])"
   ]
  },
  {
   "cell_type": "code",
   "execution_count": 93,
   "metadata": {},
   "outputs": [
    {
     "name": "stdout",
     "output_type": "stream",
     "text": [
      "Train on 54000 samples, validate on 6000 samples\n",
      "Epoch 1/25\n",
      "54000/54000 [==============================] - 74s 1ms/step - loss: 0.2811 - acc: 0.8983 - val_loss: 0.2564 - val_acc: 0.9043\n",
      "Epoch 2/25\n",
      "54000/54000 [==============================] - 74s 1ms/step - loss: 0.2772 - acc: 0.8985 - val_loss: 0.2525 - val_acc: 0.9063\n",
      "Epoch 3/25\n",
      "54000/54000 [==============================] - 78s 1ms/step - loss: 0.2755 - acc: 0.8978 - val_loss: 0.2484 - val_acc: 0.9062\n",
      "Epoch 4/25\n",
      "54000/54000 [==============================] - 72s 1ms/step - loss: 0.2716 - acc: 0.8997 - val_loss: 0.2476 - val_acc: 0.9108\n",
      "Epoch 5/25\n",
      "54000/54000 [==============================] - 76s 1ms/step - loss: 0.2663 - acc: 0.9030 - val_loss: 0.2475 - val_acc: 0.9085\n",
      "Epoch 6/25\n",
      "54000/54000 [==============================] - 73s 1ms/step - loss: 0.2682 - acc: 0.9014 - val_loss: 0.2445 - val_acc: 0.9100\n",
      "Epoch 7/25\n",
      "54000/54000 [==============================] - 74s 1ms/step - loss: 0.2673 - acc: 0.9021 - val_loss: 0.2427 - val_acc: 0.9120\n",
      "Epoch 8/25\n",
      "54000/54000 [==============================] - 86s 2ms/step - loss: 0.2632 - acc: 0.9025 - val_loss: 0.2427 - val_acc: 0.9087\n",
      "Epoch 9/25\n",
      "54000/54000 [==============================] - 71s 1ms/step - loss: 0.2610 - acc: 0.9035 - val_loss: 0.2377 - val_acc: 0.9123\n",
      "Epoch 10/25\n",
      "54000/54000 [==============================] - 71s 1ms/step - loss: 0.2589 - acc: 0.9058 - val_loss: 0.2360 - val_acc: 0.9127\n",
      "Epoch 11/25\n",
      "54000/54000 [==============================] - 80s 1ms/step - loss: 0.2570 - acc: 0.9064 - val_loss: 0.2373 - val_acc: 0.9130\n",
      "Epoch 12/25\n",
      "54000/54000 [==============================] - 75s 1ms/step - loss: 0.2553 - acc: 0.9053 - val_loss: 0.2356 - val_acc: 0.9143\n",
      "Epoch 13/25\n",
      "54000/54000 [==============================] - 75s 1ms/step - loss: 0.2532 - acc: 0.9062 - val_loss: 0.2321 - val_acc: 0.9133\n",
      "Epoch 14/25\n",
      "54000/54000 [==============================] - 75s 1ms/step - loss: 0.2515 - acc: 0.9071 - val_loss: 0.2329 - val_acc: 0.9153\n",
      "Epoch 15/25\n",
      "54000/54000 [==============================] - 78s 1ms/step - loss: 0.2499 - acc: 0.9081 - val_loss: 0.2314 - val_acc: 0.9145\n",
      "Epoch 16/25\n",
      "54000/54000 [==============================] - 79s 1ms/step - loss: 0.2453 - acc: 0.9087 - val_loss: 0.2314 - val_acc: 0.9130\n",
      "Epoch 17/25\n",
      "54000/54000 [==============================] - 76s 1ms/step - loss: 0.2463 - acc: 0.9086 - val_loss: 0.2311 - val_acc: 0.9145\n",
      "Epoch 18/25\n",
      "54000/54000 [==============================] - 75s 1ms/step - loss: 0.2456 - acc: 0.9088 - val_loss: 0.2312 - val_acc: 0.9150\n",
      "Epoch 19/25\n",
      "54000/54000 [==============================] - 80s 1ms/step - loss: 0.2407 - acc: 0.9105 - val_loss: 0.2284 - val_acc: 0.9162\n",
      "Epoch 20/25\n",
      "54000/54000 [==============================] - 85s 2ms/step - loss: 0.2410 - acc: 0.9117 - val_loss: 0.2276 - val_acc: 0.9165\n",
      "Epoch 21/25\n",
      "54000/54000 [==============================] - 84s 2ms/step - loss: 0.2396 - acc: 0.9112 - val_loss: 0.2345 - val_acc: 0.9155\n",
      "Epoch 22/25\n",
      "54000/54000 [==============================] - 80s 1ms/step - loss: 0.2366 - acc: 0.9137 - val_loss: 0.2262 - val_acc: 0.9167\n",
      "Epoch 23/25\n",
      "54000/54000 [==============================] - 75s 1ms/step - loss: 0.2345 - acc: 0.9141 - val_loss: 0.2275 - val_acc: 0.9173\n",
      "Epoch 24/25\n",
      "54000/54000 [==============================] - 78s 1ms/step - loss: 0.2348 - acc: 0.9136 - val_loss: 0.2269 - val_acc: 0.9167\n",
      "Epoch 25/25\n",
      "54000/54000 [==============================] - 76s 1ms/step - loss: 0.2314 - acc: 0.9154 - val_loss: 0.2237 - val_acc: 0.9162\n"
     ]
    }
   ],
   "source": [
    "history = model.fit(X_train, y_train, validation_split=0.10, epochs=25)"
   ]
  },
  {
   "cell_type": "code",
   "execution_count": 94,
   "metadata": {},
   "outputs": [],
   "source": [
    "model_json = model.to_json()\n",
    "with open(\"model.json\", \"w\") as json_file:\n",
    "    json_file.write(model_json)\n",
    "# serialize weights to HDF5\n",
    "model.save_weights(\"model.h5\")"
   ]
  },
  {
   "cell_type": "code",
   "execution_count": 95,
   "metadata": {},
   "outputs": [
    {
     "name": "stdout",
     "output_type": "stream",
     "text": [
      "(10000, 28, 28, 1)\n",
      "10000/10000 [==============================] - 3s 283us/step\n",
      "Test accuracy: 0.9111\n"
     ]
    }
   ],
   "source": [
    "print(X_test.shape)\n",
    "test_loss, test_acc = model.evaluate(X_test, y_test)\n",
    "\n",
    "print('Test accuracy:', test_acc)"
   ]
  },
  {
   "cell_type": "code",
   "execution_count": 96,
   "metadata": {},
   "outputs": [
    {
     "name": "stdout",
     "output_type": "stream",
     "text": [
      "0 : conv2d_13_input, <keras.engine.input_layer.InputLayer object at 0x7f4ec2e69eb8>\n",
      "1 : conv2d_13, <keras.layers.convolutional.Conv2D object at 0x7f4ec2e69cc0>\n",
      "2 : conv2d_13__activation__, <keras.layers.core.Activation object at 0x7f4ed3804a20>\n",
      "3 : max_pooling2d_13, <keras.layers.pooling.MaxPooling2D object at 0x7f4ec2e69d30>\n",
      "4 : conv2d_14, <keras.layers.convolutional.Conv2D object at 0x7f4ec2e63c50>\n",
      "5 : conv2d_14__activation__, <keras.layers.core.Activation object at 0x7f4ed49475c0>\n",
      "6 : max_pooling2d_14, <keras.layers.pooling.MaxPooling2D object at 0x7f4ec2e63978>\n",
      "7 : flatten_7, <keras.layers.core.Flatten object at 0x7f4ec2df56d8>\n",
      "8 : dense_13, <keras.layers.core.Dense object at 0x7f4ec2e15fd0>\n",
      "9 : dense_13__activation__, <keras.layers.core.Activation object at 0x7f4ed3817dd8>\n",
      "10 : dense_14, <keras.layers.core.Dense object at 0x7f4ec2d71898>\n",
      "11 : dense_14__activation__, <keras.layers.core.Activation object at 0x7f4ed38172e8>\n"
     ]
    }
   ],
   "source": [
    "import coremltools\n",
    "coreml_model = coremltools.converters.keras.convert(model)\n",
    "coreml_model.save('model.mlmodel')"
   ]
  },
  {
   "cell_type": "code",
   "execution_count": 90,
   "metadata": {},
   "outputs": [
    {
     "name": "stdout",
     "output_type": "stream",
     "text": [
      "(1, 28, 28)\n"
     ]
    },
    {
     "data": {
      "image/png": "[encoded data removed]",
      "text/plain": [
       "<Figure size 432x288 with 2 Axes>"
      ]
     },
     "metadata": {},
     "output_type": "display_data"
    },
    {
     "name": "stdout",
     "output_type": "stream",
     "text": [
      "Bag\n",
      "[[0. 0. 0. 0. 0. 0. 0. 0. 1. 0.]]\n"
     ]
    }
   ],
   "source": [
    "from PIL import Image\n",
    "\n",
    "size = 28, 28\n",
    "im = Image.open('bshirt.jpeg').convert('L')\n",
    "im = im.resize(size, Image.ANTIALIAS)\n",
    "imarray = np.array([np.array(im)])\n",
    "\n",
    "plt.figure()\n",
    "plt.imshow(im)\n",
    "print(imarray.shape)\n",
    "plt.colorbar()\n",
    "plt.grid(False)\n",
    "plt.show()\n",
    "\n",
    "imarray = imarray.reshape(imarray.shape[0], w, h, 1)\n",
    "predictions = model.predict(imarray)\n",
    "predicted_label = np.argmax(predictions)\n",
    "name = class_names[predicted_label]\n",
    "print (name)\n",
    "print (predictions)"
   ]
  },
  {
   "cell_type": "code",
   "execution_count": 97,
   "metadata": {},
   "outputs": [
    {
     "data": {
      "image/png": "[encoded data removed]",
      "text/plain": [
       "<Figure size 432x288 with 1 Axes>"
      ]
     },
     "metadata": {},
     "output_type": "display_data"
    },
    {
     "data": {
      "image/png": "[encoded data removed]",
      "text/plain": [
       "<Figure size 432x288 with 1 Axes>"
      ]
     },
     "metadata": {},
     "output_type": "display_data"
    }
   ],
   "source": [
    "plot_history(history)"
   ]
  },
  {
   "cell_type": "code",
   "execution_count": null,
   "metadata": {},
   "outputs": [],
   "source": []
  }
 ],
 "metadata": {
  "kernelspec": {
   "display_name": "Python 3",
   "language": "python",
   "name": "python3"
  },
  "language_info": {
   "codemirror_mode": {
    "name": "ipython",
    "version": 3
   },
   "file_extension": ".py",
   "mimetype": "text/x-python",
   "name": "python",
   "nbconvert_exporter": "python",
   "pygments_lexer": "ipython3",
   "version": "3.6.7"
  }
 },
 "nbformat": 4,
 "nbformat_minor": 2
}
